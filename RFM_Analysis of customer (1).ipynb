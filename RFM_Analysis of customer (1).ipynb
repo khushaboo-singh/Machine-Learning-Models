{
 "cells": [
  {
   "cell_type": "code",
   "execution_count": 1,
   "id": "2c174e3f",
   "metadata": {},
   "outputs": [
    {
     "data": {
      "text/plain": [
       "'E-commerce stores which became success stories were successful in targeting the desired customers. One of the techniques by which \\n they were able to achieve this was customer segmentation i.e. by segmenting the existing customers based on frequency of \\n purchases, monetary value etc. E-commerce stores who designed market strategies based on mass marketing soon realized the\\n need of customer segmentation as an alternative to save cost and efforts in the digital sphere. In a real-world \\n segmentation scenario, there might be hundreds of variables which can be used but broadly they segment the customers \\n by the following characteristics'"
      ]
     },
     "execution_count": 1,
     "metadata": {},
     "output_type": "execute_result"
    }
   ],
   "source": [
    "# ABSTRACT : \n",
    "# In this project, you will analyze and segment the customers of an e-commerce company by using the RFM approach. \n",
    "#This will enable the e-commerce company to optimize their retention and acquisition strategies. \n",
    "\n",
    "# Market Outlook: \n",
    "\n",
    "\"\"\"E-commerce stores which became success stories were successful in targeting the desired customers. One of the techniques by which \n",
    " they were able to achieve this was customer segmentation i.e. by segmenting the existing customers based on frequency of \n",
    " purchases, monetary value etc. E-commerce stores who designed market strategies based on mass marketing soon realized the\n",
    " need of customer segmentation as an alternative to save cost and efforts in the digital sphere. In a real-world \n",
    " segmentation scenario, there might be hundreds of variables which can be used but broadly they segment the customers \n",
    " by the following characteristics\"\"\"\n",
    "\n",
    "# Objective : To Build an unsupervised learning model which can enable your company to analyze their customers via \n",
    "# RFM (Recency, Frequency and Monetary value) approach."
   ]
  },
  {
   "cell_type": "code",
   "execution_count": 2,
   "id": "17154afa",
   "metadata": {},
   "outputs": [],
   "source": [
    "# Importing Basic Library\n",
    "import os\n",
    "import numpy as np\n",
    "import pandas as pd\n",
    "import matplotlib.pyplot as plt\n",
    "%matplotlib inline\n",
    "import seaborn as sns\n",
    "sns.set()\n",
    "import warnings\n",
    "warnings.filterwarnings('ignore')\n"
   ]
  },
  {
   "cell_type": "code",
   "execution_count": 3,
   "id": "eaf8b374",
   "metadata": {},
   "outputs": [
    {
     "data": {
      "text/html": [
       "<div>\n",
       "<style scoped>\n",
       "    .dataframe tbody tr th:only-of-type {\n",
       "        vertical-align: middle;\n",
       "    }\n",
       "\n",
       "    .dataframe tbody tr th {\n",
       "        vertical-align: top;\n",
       "    }\n",
       "\n",
       "    .dataframe thead th {\n",
       "        text-align: right;\n",
       "    }\n",
       "</style>\n",
       "<table border=\"1\" class=\"dataframe\">\n",
       "  <thead>\n",
       "    <tr style=\"text-align: right;\">\n",
       "      <th></th>\n",
       "      <th>CustomerID</th>\n",
       "      <th>Item Code</th>\n",
       "      <th>InvoieNo</th>\n",
       "      <th>Date of purchase</th>\n",
       "      <th>Quantity</th>\n",
       "      <th>Time</th>\n",
       "      <th>price per Unit</th>\n",
       "      <th>Price</th>\n",
       "      <th>Shipping Location</th>\n",
       "      <th>Cancelled_status</th>\n",
       "      <th>Reason of return</th>\n",
       "      <th>Sold as set</th>\n",
       "    </tr>\n",
       "  </thead>\n",
       "  <tbody>\n",
       "    <tr>\n",
       "      <th>0</th>\n",
       "      <td>4355.0</td>\n",
       "      <td>15734</td>\n",
       "      <td>398177.0</td>\n",
       "      <td>29-10-2017</td>\n",
       "      <td>6.0</td>\n",
       "      <td>3:36:00 PM</td>\n",
       "      <td>321.0</td>\n",
       "      <td>1926.0</td>\n",
       "      <td>Location 1</td>\n",
       "      <td>NaN</td>\n",
       "      <td>NaN</td>\n",
       "      <td>NaN</td>\n",
       "    </tr>\n",
       "    <tr>\n",
       "      <th>1</th>\n",
       "      <td>4352.0</td>\n",
       "      <td>14616</td>\n",
       "      <td>394422.0</td>\n",
       "      <td>05-10-2017</td>\n",
       "      <td>2.0</td>\n",
       "      <td>2:53:00 PM</td>\n",
       "      <td>870.0</td>\n",
       "      <td>1740.0</td>\n",
       "      <td>Location 1</td>\n",
       "      <td>NaN</td>\n",
       "      <td>NaN</td>\n",
       "      <td>NaN</td>\n",
       "    </tr>\n",
       "    <tr>\n",
       "      <th>2</th>\n",
       "      <td>4352.0</td>\n",
       "      <td>14614</td>\n",
       "      <td>394422.0</td>\n",
       "      <td>12-10-2017</td>\n",
       "      <td>2.0</td>\n",
       "      <td>2:53:00 PM</td>\n",
       "      <td>933.0</td>\n",
       "      <td>1866.0</td>\n",
       "      <td>Location 1</td>\n",
       "      <td>NaN</td>\n",
       "      <td>NaN</td>\n",
       "      <td>NaN</td>\n",
       "    </tr>\n",
       "    <tr>\n",
       "      <th>3</th>\n",
       "      <td>4352.0</td>\n",
       "      <td>85014B</td>\n",
       "      <td>388633.0</td>\n",
       "      <td>22-08-2017</td>\n",
       "      <td>3.0</td>\n",
       "      <td>2:47:00 PM</td>\n",
       "      <td>623.0</td>\n",
       "      <td>1869.0</td>\n",
       "      <td>Location 1</td>\n",
       "      <td>NaN</td>\n",
       "      <td>NaN</td>\n",
       "      <td>NaN</td>\n",
       "    </tr>\n",
       "    <tr>\n",
       "      <th>4</th>\n",
       "      <td>4352.0</td>\n",
       "      <td>15364</td>\n",
       "      <td>394422.0</td>\n",
       "      <td>10-10-2017</td>\n",
       "      <td>2.0</td>\n",
       "      <td>2:53:00 PM</td>\n",
       "      <td>944.0</td>\n",
       "      <td>1888.0</td>\n",
       "      <td>Location 1</td>\n",
       "      <td>NaN</td>\n",
       "      <td>NaN</td>\n",
       "      <td>NaN</td>\n",
       "    </tr>\n",
       "    <tr>\n",
       "      <th>...</th>\n",
       "      <td>...</td>\n",
       "      <td>...</td>\n",
       "      <td>...</td>\n",
       "      <td>...</td>\n",
       "      <td>...</td>\n",
       "      <td>...</td>\n",
       "      <td>...</td>\n",
       "      <td>...</td>\n",
       "      <td>...</td>\n",
       "      <td>...</td>\n",
       "      <td>...</td>\n",
       "      <td>...</td>\n",
       "    </tr>\n",
       "    <tr>\n",
       "      <th>541111</th>\n",
       "      <td>NaN</td>\n",
       "      <td>NaN</td>\n",
       "      <td>NaN</td>\n",
       "      <td>NaN</td>\n",
       "      <td>NaN</td>\n",
       "      <td>NaN</td>\n",
       "      <td>NaN</td>\n",
       "      <td>NaN</td>\n",
       "      <td>NaN</td>\n",
       "      <td>NaN</td>\n",
       "      <td>NaN</td>\n",
       "      <td>NaN</td>\n",
       "    </tr>\n",
       "    <tr>\n",
       "      <th>541112</th>\n",
       "      <td>NaN</td>\n",
       "      <td>NaN</td>\n",
       "      <td>NaN</td>\n",
       "      <td>NaN</td>\n",
       "      <td>NaN</td>\n",
       "      <td>NaN</td>\n",
       "      <td>NaN</td>\n",
       "      <td>NaN</td>\n",
       "      <td>NaN</td>\n",
       "      <td>NaN</td>\n",
       "      <td>NaN</td>\n",
       "      <td>NaN</td>\n",
       "    </tr>\n",
       "    <tr>\n",
       "      <th>541113</th>\n",
       "      <td>NaN</td>\n",
       "      <td>NaN</td>\n",
       "      <td>NaN</td>\n",
       "      <td>NaN</td>\n",
       "      <td>NaN</td>\n",
       "      <td>NaN</td>\n",
       "      <td>NaN</td>\n",
       "      <td>NaN</td>\n",
       "      <td>NaN</td>\n",
       "      <td>NaN</td>\n",
       "      <td>NaN</td>\n",
       "      <td>NaN</td>\n",
       "    </tr>\n",
       "    <tr>\n",
       "      <th>541114</th>\n",
       "      <td>NaN</td>\n",
       "      <td>NaN</td>\n",
       "      <td>NaN</td>\n",
       "      <td>NaN</td>\n",
       "      <td>NaN</td>\n",
       "      <td>NaN</td>\n",
       "      <td>NaN</td>\n",
       "      <td>NaN</td>\n",
       "      <td>NaN</td>\n",
       "      <td>NaN</td>\n",
       "      <td>NaN</td>\n",
       "      <td>NaN</td>\n",
       "    </tr>\n",
       "    <tr>\n",
       "      <th>541115</th>\n",
       "      <td>NaN</td>\n",
       "      <td>NaN</td>\n",
       "      <td>NaN</td>\n",
       "      <td>NaN</td>\n",
       "      <td>NaN</td>\n",
       "      <td>NaN</td>\n",
       "      <td>NaN</td>\n",
       "      <td>NaN</td>\n",
       "      <td>NaN</td>\n",
       "      <td>NaN</td>\n",
       "      <td>NaN</td>\n",
       "      <td>NaN</td>\n",
       "    </tr>\n",
       "  </tbody>\n",
       "</table>\n",
       "<p>541116 rows × 12 columns</p>\n",
       "</div>"
      ],
      "text/plain": [
       "        CustomerID Item Code  InvoieNo Date of purchase  Quantity        Time  \\\n",
       "0           4355.0     15734  398177.0       29-10-2017       6.0  3:36:00 PM   \n",
       "1           4352.0     14616  394422.0       05-10-2017       2.0  2:53:00 PM   \n",
       "2           4352.0     14614  394422.0       12-10-2017       2.0  2:53:00 PM   \n",
       "3           4352.0    85014B  388633.0       22-08-2017       3.0  2:47:00 PM   \n",
       "4           4352.0     15364  394422.0       10-10-2017       2.0  2:53:00 PM   \n",
       "...            ...       ...       ...              ...       ...         ...   \n",
       "541111         NaN       NaN       NaN              NaN       NaN         NaN   \n",
       "541112         NaN       NaN       NaN              NaN       NaN         NaN   \n",
       "541113         NaN       NaN       NaN              NaN       NaN         NaN   \n",
       "541114         NaN       NaN       NaN              NaN       NaN         NaN   \n",
       "541115         NaN       NaN       NaN              NaN       NaN         NaN   \n",
       "\n",
       "        price per Unit   Price Shipping Location Cancelled_status  \\\n",
       "0                321.0  1926.0        Location 1              NaN   \n",
       "1                870.0  1740.0        Location 1              NaN   \n",
       "2                933.0  1866.0        Location 1              NaN   \n",
       "3                623.0  1869.0        Location 1              NaN   \n",
       "4                944.0  1888.0        Location 1              NaN   \n",
       "...                ...     ...               ...              ...   \n",
       "541111             NaN     NaN               NaN              NaN   \n",
       "541112             NaN     NaN               NaN              NaN   \n",
       "541113             NaN     NaN               NaN              NaN   \n",
       "541114             NaN     NaN               NaN              NaN   \n",
       "541115             NaN     NaN               NaN              NaN   \n",
       "\n",
       "       Reason of return  Sold as set  \n",
       "0                   NaN          NaN  \n",
       "1                   NaN          NaN  \n",
       "2                   NaN          NaN  \n",
       "3                   NaN          NaN  \n",
       "4                   NaN          NaN  \n",
       "...                 ...          ...  \n",
       "541111              NaN          NaN  \n",
       "541112              NaN          NaN  \n",
       "541113              NaN          NaN  \n",
       "541114              NaN          NaN  \n",
       "541115              NaN          NaN  \n",
       "\n",
       "[541116 rows x 12 columns]"
      ]
     },
     "execution_count": 3,
     "metadata": {},
     "output_type": "execute_result"
    }
   ],
   "source": [
    "# Importing dataset\n",
    "dataset = pd.read_csv('E-com_Data.csv')\n",
    "dataset"
   ]
  },
  {
   "cell_type": "code",
   "execution_count": 4,
   "id": "e751a430",
   "metadata": {},
   "outputs": [
    {
     "name": "stdout",
     "output_type": "stream",
     "text": [
      "<class 'pandas.core.frame.DataFrame'>\n",
      "RangeIndex: 541116 entries, 0 to 541115\n",
      "Data columns (total 12 columns):\n",
      " #   Column             Non-Null Count   Dtype  \n",
      "---  ------             --------------   -----  \n",
      " 0   CustomerID         404189 non-null  float64\n",
      " 1   Item Code          537979 non-null  object \n",
      " 2   InvoieNo           537979 non-null  float64\n",
      " 3   Date of purchase   537979 non-null  object \n",
      " 4   Quantity           537979 non-null  float64\n",
      " 5   Time               537979 non-null  object \n",
      " 6   price per Unit     537979 non-null  float64\n",
      " 7   Price              537979 non-null  float64\n",
      " 8   Shipping Location  537979 non-null  object \n",
      " 9   Cancelled_status   8345 non-null    object \n",
      " 10  Reason of return   3 non-null       object \n",
      " 11  Sold as set        0 non-null       float64\n",
      "dtypes: float64(6), object(6)\n",
      "memory usage: 49.5+ MB\n"
     ]
    }
   ],
   "source": [
    "# General information about the dataset\n",
    "dataset.info()"
   ]
  },
  {
   "cell_type": "code",
   "execution_count": 5,
   "id": "41eaea95",
   "metadata": {},
   "outputs": [
    {
     "data": {
      "text/plain": [
       "3145"
      ]
     },
     "execution_count": 5,
     "metadata": {},
     "output_type": "execute_result"
    }
   ],
   "source": [
    "# Checking duplicates values if any:\n",
    "dataset.duplicated().sum()"
   ]
  },
  {
   "cell_type": "code",
   "execution_count": 6,
   "id": "d83aec94",
   "metadata": {},
   "outputs": [],
   "source": [
    "# Dropping the duplicates value from the dataset\n",
    "dataset = dataset.drop_duplicates(ignore_index=True)"
   ]
  },
  {
   "cell_type": "code",
   "execution_count": 7,
   "id": "33adf165",
   "metadata": {},
   "outputs": [
    {
     "data": {
      "text/plain": [
       "(537971, 12)"
      ]
     },
     "execution_count": 7,
     "metadata": {},
     "output_type": "execute_result"
    }
   ],
   "source": [
    "dataset.shape"
   ]
  },
  {
   "cell_type": "code",
   "execution_count": 8,
   "id": "bed58896",
   "metadata": {},
   "outputs": [
    {
     "data": {
      "text/plain": [
       "Index(['CustomerID', 'Item Code', 'InvoieNo', 'Date of purchase', 'Quantity',\n",
       "       'Time', 'price per Unit', 'Price', 'Shipping Location',\n",
       "       'Cancelled_status', 'Reason of return', 'Sold as set'],\n",
       "      dtype='object')"
      ]
     },
     "execution_count": 8,
     "metadata": {},
     "output_type": "execute_result"
    }
   ],
   "source": [
    "# Columns of the dataset\n",
    "dataset.columns"
   ]
  },
  {
   "cell_type": "code",
   "execution_count": 9,
   "id": "06ddb670",
   "metadata": {},
   "outputs": [
    {
     "data": {
      "text/html": [
       "<div>\n",
       "<style scoped>\n",
       "    .dataframe tbody tr th:only-of-type {\n",
       "        vertical-align: middle;\n",
       "    }\n",
       "\n",
       "    .dataframe tbody tr th {\n",
       "        vertical-align: top;\n",
       "    }\n",
       "\n",
       "    .dataframe thead th {\n",
       "        text-align: right;\n",
       "    }\n",
       "</style>\n",
       "<table border=\"1\" class=\"dataframe\">\n",
       "  <thead>\n",
       "    <tr style=\"text-align: right;\">\n",
       "      <th></th>\n",
       "      <th>CustomerID</th>\n",
       "      <th>InvoieNo</th>\n",
       "      <th>Date of purchase</th>\n",
       "      <th>Price</th>\n",
       "    </tr>\n",
       "  </thead>\n",
       "  <tbody>\n",
       "    <tr>\n",
       "      <th>0</th>\n",
       "      <td>4355.0</td>\n",
       "      <td>398177.0</td>\n",
       "      <td>29-10-2017</td>\n",
       "      <td>1926.0</td>\n",
       "    </tr>\n",
       "    <tr>\n",
       "      <th>1</th>\n",
       "      <td>4352.0</td>\n",
       "      <td>394422.0</td>\n",
       "      <td>05-10-2017</td>\n",
       "      <td>1740.0</td>\n",
       "    </tr>\n",
       "    <tr>\n",
       "      <th>2</th>\n",
       "      <td>4352.0</td>\n",
       "      <td>394422.0</td>\n",
       "      <td>12-10-2017</td>\n",
       "      <td>1866.0</td>\n",
       "    </tr>\n",
       "    <tr>\n",
       "      <th>3</th>\n",
       "      <td>4352.0</td>\n",
       "      <td>388633.0</td>\n",
       "      <td>22-08-2017</td>\n",
       "      <td>1869.0</td>\n",
       "    </tr>\n",
       "    <tr>\n",
       "      <th>4</th>\n",
       "      <td>4352.0</td>\n",
       "      <td>394422.0</td>\n",
       "      <td>10-10-2017</td>\n",
       "      <td>1888.0</td>\n",
       "    </tr>\n",
       "    <tr>\n",
       "      <th>...</th>\n",
       "      <td>...</td>\n",
       "      <td>...</td>\n",
       "      <td>...</td>\n",
       "      <td>...</td>\n",
       "    </tr>\n",
       "    <tr>\n",
       "      <th>537966</th>\n",
       "      <td>NaN</td>\n",
       "      <td>367605.0</td>\n",
       "      <td>06-02-2017</td>\n",
       "      <td>1522.0</td>\n",
       "    </tr>\n",
       "    <tr>\n",
       "      <th>537967</th>\n",
       "      <td>NaN</td>\n",
       "      <td>368246.0</td>\n",
       "      <td>06-02-2017</td>\n",
       "      <td>2283.0</td>\n",
       "    </tr>\n",
       "    <tr>\n",
       "      <th>537968</th>\n",
       "      <td>NaN</td>\n",
       "      <td>366891.0</td>\n",
       "      <td>29-01-2017</td>\n",
       "      <td>2970.0</td>\n",
       "    </tr>\n",
       "    <tr>\n",
       "      <th>537969</th>\n",
       "      <td>NaN</td>\n",
       "      <td>391243.0</td>\n",
       "      <td>17-09-2017</td>\n",
       "      <td>8340.0</td>\n",
       "    </tr>\n",
       "    <tr>\n",
       "      <th>537970</th>\n",
       "      <td>NaN</td>\n",
       "      <td>NaN</td>\n",
       "      <td>NaN</td>\n",
       "      <td>NaN</td>\n",
       "    </tr>\n",
       "  </tbody>\n",
       "</table>\n",
       "<p>537971 rows × 4 columns</p>\n",
       "</div>"
      ],
      "text/plain": [
       "        CustomerID  InvoieNo Date of purchase   Price\n",
       "0           4355.0  398177.0       29-10-2017  1926.0\n",
       "1           4352.0  394422.0       05-10-2017  1740.0\n",
       "2           4352.0  394422.0       12-10-2017  1866.0\n",
       "3           4352.0  388633.0       22-08-2017  1869.0\n",
       "4           4352.0  394422.0       10-10-2017  1888.0\n",
       "...            ...       ...              ...     ...\n",
       "537966         NaN  367605.0       06-02-2017  1522.0\n",
       "537967         NaN  368246.0       06-02-2017  2283.0\n",
       "537968         NaN  366891.0       29-01-2017  2970.0\n",
       "537969         NaN  391243.0       17-09-2017  8340.0\n",
       "537970         NaN       NaN              NaN     NaN\n",
       "\n",
       "[537971 rows x 4 columns]"
      ]
     },
     "execution_count": 9,
     "metadata": {},
     "output_type": "execute_result"
    }
   ],
   "source": [
    "# Selecting the variables on the basis of which , we have to segment the customers.\n",
    "dataset = dataset[['CustomerID','InvoieNo','Date of purchase','Price']]\n",
    "dataset"
   ]
  },
  {
   "cell_type": "code",
   "execution_count": 10,
   "id": "c766e9ce",
   "metadata": {},
   "outputs": [
    {
     "data": {
      "text/plain": [
       "CustomerID          24.869370\n",
       "InvoieNo             0.000186\n",
       "Date of purchase     0.000186\n",
       "Price                0.000186\n",
       "dtype: float64"
      ]
     },
     "execution_count": 10,
     "metadata": {},
     "output_type": "execute_result"
    }
   ],
   "source": [
    "# Cgecking the null value\n",
    "dataset.isnull().sum()/len(dataset)*100"
   ]
  },
  {
   "cell_type": "code",
   "execution_count": 11,
   "id": "e8e7e471",
   "metadata": {},
   "outputs": [],
   "source": [
    "# we have to drop the rows where the 'CustomerID' has Nan values. because existing customers are deciding parameater.\n",
    "dataset = dataset.dropna(subset=['CustomerID'])"
   ]
  },
  {
   "cell_type": "code",
   "execution_count": 12,
   "id": "15075f7f",
   "metadata": {},
   "outputs": [
    {
     "data": {
      "text/plain": [
       "CustomerID          0.0\n",
       "InvoieNo            0.0\n",
       "Date of purchase    0.0\n",
       "Price               0.0\n",
       "dtype: float64"
      ]
     },
     "execution_count": 12,
     "metadata": {},
     "output_type": "execute_result"
    }
   ],
   "source": [
    "dataset.isnull().sum()/len(dataset)*100"
   ]
  },
  {
   "cell_type": "code",
   "execution_count": 13,
   "id": "e581f97d",
   "metadata": {},
   "outputs": [
    {
     "data": {
      "text/plain": [
       "(404181, 4)"
      ]
     },
     "execution_count": 13,
     "metadata": {},
     "output_type": "execute_result"
    }
   ],
   "source": [
    "# Actual shape of the dataset\n",
    "dataset.shape"
   ]
  },
  {
   "cell_type": "code",
   "execution_count": 14,
   "id": "a32675ef",
   "metadata": {},
   "outputs": [
    {
     "name": "stdout",
     "output_type": "stream",
     "text": [
      "<class 'pandas.core.frame.DataFrame'>\n",
      "Int64Index: 404181 entries, 0 to 537940\n",
      "Data columns (total 4 columns):\n",
      " #   Column            Non-Null Count   Dtype  \n",
      "---  ------            --------------   -----  \n",
      " 0   CustomerID        404181 non-null  float64\n",
      " 1   InvoieNo          404181 non-null  float64\n",
      " 2   Date of purchase  404181 non-null  object \n",
      " 3   Price             404181 non-null  float64\n",
      "dtypes: float64(3), object(1)\n",
      "memory usage: 15.4+ MB\n"
     ]
    }
   ],
   "source": [
    "dataset.info()"
   ]
  },
  {
   "cell_type": "code",
   "execution_count": 15,
   "id": "53157a68",
   "metadata": {},
   "outputs": [],
   "source": [
    "# here we have to convert data type of column 'Date of Purchase' from object to datetime64[ns]\n",
    "dataset['Date of purchase'] = pd.to_datetime(dataset['Date of purchase'])"
   ]
  },
  {
   "cell_type": "code",
   "execution_count": 16,
   "id": "3f01d9f8",
   "metadata": {},
   "outputs": [
    {
     "data": {
      "text/plain": [
       "CustomerID                 float64\n",
       "InvoieNo                   float64\n",
       "Date of purchase    datetime64[ns]\n",
       "Price                      float64\n",
       "dtype: object"
      ]
     },
     "execution_count": 16,
     "metadata": {},
     "output_type": "execute_result"
    }
   ],
   "source": [
    "dataset.dtypes"
   ]
  },
  {
   "cell_type": "code",
   "execution_count": 17,
   "id": "8f26b5c9",
   "metadata": {},
   "outputs": [
    {
     "data": {
      "text/html": [
       "<div>\n",
       "<style scoped>\n",
       "    .dataframe tbody tr th:only-of-type {\n",
       "        vertical-align: middle;\n",
       "    }\n",
       "\n",
       "    .dataframe tbody tr th {\n",
       "        vertical-align: top;\n",
       "    }\n",
       "\n",
       "    .dataframe thead th {\n",
       "        text-align: right;\n",
       "    }\n",
       "</style>\n",
       "<table border=\"1\" class=\"dataframe\">\n",
       "  <thead>\n",
       "    <tr style=\"text-align: right;\">\n",
       "      <th></th>\n",
       "      <th>CustomerID</th>\n",
       "      <th>InvoieNo</th>\n",
       "      <th>Date of purchase</th>\n",
       "      <th>Price</th>\n",
       "    </tr>\n",
       "  </thead>\n",
       "  <tbody>\n",
       "    <tr>\n",
       "      <th>0</th>\n",
       "      <td>4355.0</td>\n",
       "      <td>398177.0</td>\n",
       "      <td>2017-10-29</td>\n",
       "      <td>1926.0</td>\n",
       "    </tr>\n",
       "    <tr>\n",
       "      <th>1</th>\n",
       "      <td>4352.0</td>\n",
       "      <td>394422.0</td>\n",
       "      <td>2017-05-10</td>\n",
       "      <td>1740.0</td>\n",
       "    </tr>\n",
       "    <tr>\n",
       "      <th>2</th>\n",
       "      <td>4352.0</td>\n",
       "      <td>394422.0</td>\n",
       "      <td>2017-12-10</td>\n",
       "      <td>1866.0</td>\n",
       "    </tr>\n",
       "    <tr>\n",
       "      <th>3</th>\n",
       "      <td>4352.0</td>\n",
       "      <td>388633.0</td>\n",
       "      <td>2017-08-22</td>\n",
       "      <td>1869.0</td>\n",
       "    </tr>\n",
       "    <tr>\n",
       "      <th>4</th>\n",
       "      <td>4352.0</td>\n",
       "      <td>394422.0</td>\n",
       "      <td>2017-10-10</td>\n",
       "      <td>1888.0</td>\n",
       "    </tr>\n",
       "  </tbody>\n",
       "</table>\n",
       "</div>"
      ],
      "text/plain": [
       "   CustomerID  InvoieNo Date of purchase   Price\n",
       "0      4355.0  398177.0       2017-10-29  1926.0\n",
       "1      4352.0  394422.0       2017-05-10  1740.0\n",
       "2      4352.0  394422.0       2017-12-10  1866.0\n",
       "3      4352.0  388633.0       2017-08-22  1869.0\n",
       "4      4352.0  394422.0       2017-10-10  1888.0"
      ]
     },
     "execution_count": 17,
     "metadata": {},
     "output_type": "execute_result"
    }
   ],
   "source": [
    "dataset.head()"
   ]
  },
  {
   "cell_type": "code",
   "execution_count": 18,
   "id": "134d5aaa",
   "metadata": {},
   "outputs": [
    {
     "data": {
      "text/plain": [
       "4349"
      ]
     },
     "execution_count": 18,
     "metadata": {},
     "output_type": "execute_result"
    }
   ],
   "source": [
    "# calculating unique number of customer\n",
    "dataset['CustomerID'].nunique()"
   ]
  },
  {
   "cell_type": "code",
   "execution_count": 19,
   "id": "757da2f5",
   "metadata": {},
   "outputs": [
    {
     "data": {
      "text/plain": [
       "count                  404181\n",
       "unique                    381\n",
       "top       2017-11-24 00:00:00\n",
       "freq                     2522\n",
       "first     2016-02-12 00:00:00\n",
       "last      2017-12-19 00:00:00\n",
       "Name: Date of purchase, dtype: object"
      ]
     },
     "execution_count": 19,
     "metadata": {},
     "output_type": "execute_result"
    }
   ],
   "source": [
    "# Statistical information about the dataset\n",
    "dataset['Date of purchase'].describe()"
   ]
  },
  {
   "cell_type": "code",
   "execution_count": 20,
   "id": "528f9903",
   "metadata": {},
   "outputs": [],
   "source": [
    "# from the describe function, we gets following insides\n",
    "# 1. maximum no of shopping done on date - 2017-11-24\n",
    "# 2. frequncy of shoping on date 2017-11-24 : 2522\n",
    "# 3. First order done is on : 2016-02-12\n",
    "# 4. Last day of shopping is : 2017 -12-19"
   ]
  },
  {
   "cell_type": "code",
   "execution_count": 21,
   "id": "a2f86bc2",
   "metadata": {},
   "outputs": [],
   "source": [
    "dataset = dataset.rename(columns={'InvoieNo':'InvoiceNo', 'Date of purchase':'Date'})"
   ]
  },
  {
   "cell_type": "code",
   "execution_count": 22,
   "id": "329188ba",
   "metadata": {},
   "outputs": [],
   "source": [
    "import datetime as dt"
   ]
  },
  {
   "cell_type": "code",
   "execution_count": 23,
   "id": "69de32c6",
   "metadata": {},
   "outputs": [],
   "source": [
    "# let's find Latest date for calvulating 'Recency'"
   ]
  },
  {
   "cell_type": "code",
   "execution_count": 24,
   "id": "c8285115",
   "metadata": {},
   "outputs": [
    {
     "data": {
      "text/plain": [
       "datetime.datetime(2017, 12, 20, 0, 0)"
      ]
     },
     "execution_count": 24,
     "metadata": {},
     "output_type": "execute_result"
    }
   ],
   "source": [
    "Latest_date = dt.datetime(2017,12,20)\n",
    "Latest_date"
   ]
  },
  {
   "cell_type": "code",
   "execution_count": 25,
   "id": "0dc18e2e",
   "metadata": {},
   "outputs": [],
   "source": [
    "# Let's calculate RFMScore \"Recency, Frequency, Monetory\""
   ]
  },
  {
   "cell_type": "code",
   "execution_count": 26,
   "id": "f2747b1b",
   "metadata": {},
   "outputs": [],
   "source": [
    "RFMScore = dataset.groupby('CustomerID').agg({'Date': lambda x: (Latest_date - x.max()).days,\n",
    "                                             'InvoiceNo': lambda x: x.count(),\n",
    "                                             'Price': lambda  x:x.sum()})"
   ]
  },
  {
   "cell_type": "code",
   "execution_count": 27,
   "id": "727f927e",
   "metadata": {},
   "outputs": [
    {
     "data": {
      "text/html": [
       "<div>\n",
       "<style scoped>\n",
       "    .dataframe tbody tr th:only-of-type {\n",
       "        vertical-align: middle;\n",
       "    }\n",
       "\n",
       "    .dataframe tbody tr th {\n",
       "        vertical-align: top;\n",
       "    }\n",
       "\n",
       "    .dataframe thead th {\n",
       "        text-align: right;\n",
       "    }\n",
       "</style>\n",
       "<table border=\"1\" class=\"dataframe\">\n",
       "  <thead>\n",
       "    <tr style=\"text-align: right;\">\n",
       "      <th></th>\n",
       "      <th>Date</th>\n",
       "      <th>InvoiceNo</th>\n",
       "      <th>Price</th>\n",
       "    </tr>\n",
       "    <tr>\n",
       "      <th>CustomerID</th>\n",
       "      <th></th>\n",
       "      <th></th>\n",
       "      <th></th>\n",
       "    </tr>\n",
       "  </thead>\n",
       "  <tbody>\n",
       "    <tr>\n",
       "      <th>2.0</th>\n",
       "      <td>4</td>\n",
       "      <td>182</td>\n",
       "      <td>553704.0</td>\n",
       "    </tr>\n",
       "    <tr>\n",
       "      <th>3.0</th>\n",
       "      <td>77</td>\n",
       "      <td>27</td>\n",
       "      <td>257404.0</td>\n",
       "    </tr>\n",
       "    <tr>\n",
       "      <th>4.0</th>\n",
       "      <td>20</td>\n",
       "      <td>72</td>\n",
       "      <td>176613.0</td>\n",
       "    </tr>\n",
       "    <tr>\n",
       "      <th>5.0</th>\n",
       "      <td>18</td>\n",
       "      <td>16</td>\n",
       "      <td>41976.0</td>\n",
       "    </tr>\n",
       "    <tr>\n",
       "      <th>6.0</th>\n",
       "      <td>9</td>\n",
       "      <td>84</td>\n",
       "      <td>151822.0</td>\n",
       "    </tr>\n",
       "    <tr>\n",
       "      <th>...</th>\n",
       "      <td>...</td>\n",
       "      <td>...</td>\n",
       "      <td>...</td>\n",
       "    </tr>\n",
       "    <tr>\n",
       "      <th>4368.0</th>\n",
       "      <td>17</td>\n",
       "      <td>10</td>\n",
       "      <td>20480.0</td>\n",
       "    </tr>\n",
       "    <tr>\n",
       "      <th>4369.0</th>\n",
       "      <td>181</td>\n",
       "      <td>7</td>\n",
       "      <td>10774.0</td>\n",
       "    </tr>\n",
       "    <tr>\n",
       "      <th>4370.0</th>\n",
       "      <td>12</td>\n",
       "      <td>13</td>\n",
       "      <td>24962.0</td>\n",
       "    </tr>\n",
       "    <tr>\n",
       "      <th>4371.0</th>\n",
       "      <td>4</td>\n",
       "      <td>754</td>\n",
       "      <td>280608.0</td>\n",
       "    </tr>\n",
       "    <tr>\n",
       "      <th>4372.0</th>\n",
       "      <td>51</td>\n",
       "      <td>70</td>\n",
       "      <td>262820.0</td>\n",
       "    </tr>\n",
       "  </tbody>\n",
       "</table>\n",
       "<p>4349 rows × 3 columns</p>\n",
       "</div>"
      ],
      "text/plain": [
       "            Date  InvoiceNo     Price\n",
       "CustomerID                           \n",
       "2.0            4        182  553704.0\n",
       "3.0           77         27  257404.0\n",
       "4.0           20         72  176613.0\n",
       "5.0           18         16   41976.0\n",
       "6.0            9         84  151822.0\n",
       "...          ...        ...       ...\n",
       "4368.0        17         10   20480.0\n",
       "4369.0       181          7   10774.0\n",
       "4370.0        12         13   24962.0\n",
       "4371.0         4        754  280608.0\n",
       "4372.0        51         70  262820.0\n",
       "\n",
       "[4349 rows x 3 columns]"
      ]
     },
     "execution_count": 27,
     "metadata": {},
     "output_type": "execute_result"
    }
   ],
   "source": [
    "RFMScore "
   ]
  },
  {
   "cell_type": "code",
   "execution_count": 28,
   "id": "6a5748e6",
   "metadata": {},
   "outputs": [],
   "source": [
    "# Renaming the column Date as Recency, InvoiceNo as Frequency and Price as Monetory\n",
    "RFMScore.rename(columns={'Date':'Recency', 'InvoiceNo':'Frequency', 'Price':'Monetory'}, inplace=True)"
   ]
  },
  {
   "cell_type": "code",
   "execution_count": 29,
   "id": "dc4a38e6",
   "metadata": {},
   "outputs": [
    {
     "data": {
      "text/html": [
       "<div>\n",
       "<style scoped>\n",
       "    .dataframe tbody tr th:only-of-type {\n",
       "        vertical-align: middle;\n",
       "    }\n",
       "\n",
       "    .dataframe tbody tr th {\n",
       "        vertical-align: top;\n",
       "    }\n",
       "\n",
       "    .dataframe thead th {\n",
       "        text-align: right;\n",
       "    }\n",
       "</style>\n",
       "<table border=\"1\" class=\"dataframe\">\n",
       "  <thead>\n",
       "    <tr style=\"text-align: right;\">\n",
       "      <th></th>\n",
       "      <th>CustomerID</th>\n",
       "      <th>Recency</th>\n",
       "      <th>Frequency</th>\n",
       "      <th>Monetory</th>\n",
       "    </tr>\n",
       "  </thead>\n",
       "  <tbody>\n",
       "    <tr>\n",
       "      <th>0</th>\n",
       "      <td>2.0</td>\n",
       "      <td>4</td>\n",
       "      <td>182</td>\n",
       "      <td>553704.0</td>\n",
       "    </tr>\n",
       "    <tr>\n",
       "      <th>1</th>\n",
       "      <td>3.0</td>\n",
       "      <td>77</td>\n",
       "      <td>27</td>\n",
       "      <td>257404.0</td>\n",
       "    </tr>\n",
       "    <tr>\n",
       "      <th>2</th>\n",
       "      <td>4.0</td>\n",
       "      <td>20</td>\n",
       "      <td>72</td>\n",
       "      <td>176613.0</td>\n",
       "    </tr>\n",
       "    <tr>\n",
       "      <th>3</th>\n",
       "      <td>5.0</td>\n",
       "      <td>18</td>\n",
       "      <td>16</td>\n",
       "      <td>41976.0</td>\n",
       "    </tr>\n",
       "    <tr>\n",
       "      <th>4</th>\n",
       "      <td>6.0</td>\n",
       "      <td>9</td>\n",
       "      <td>84</td>\n",
       "      <td>151822.0</td>\n",
       "    </tr>\n",
       "    <tr>\n",
       "      <th>...</th>\n",
       "      <td>...</td>\n",
       "      <td>...</td>\n",
       "      <td>...</td>\n",
       "      <td>...</td>\n",
       "    </tr>\n",
       "    <tr>\n",
       "      <th>4344</th>\n",
       "      <td>4368.0</td>\n",
       "      <td>17</td>\n",
       "      <td>10</td>\n",
       "      <td>20480.0</td>\n",
       "    </tr>\n",
       "    <tr>\n",
       "      <th>4345</th>\n",
       "      <td>4369.0</td>\n",
       "      <td>181</td>\n",
       "      <td>7</td>\n",
       "      <td>10774.0</td>\n",
       "    </tr>\n",
       "    <tr>\n",
       "      <th>4346</th>\n",
       "      <td>4370.0</td>\n",
       "      <td>12</td>\n",
       "      <td>13</td>\n",
       "      <td>24962.0</td>\n",
       "    </tr>\n",
       "    <tr>\n",
       "      <th>4347</th>\n",
       "      <td>4371.0</td>\n",
       "      <td>4</td>\n",
       "      <td>754</td>\n",
       "      <td>280608.0</td>\n",
       "    </tr>\n",
       "    <tr>\n",
       "      <th>4348</th>\n",
       "      <td>4372.0</td>\n",
       "      <td>51</td>\n",
       "      <td>70</td>\n",
       "      <td>262820.0</td>\n",
       "    </tr>\n",
       "  </tbody>\n",
       "</table>\n",
       "<p>4349 rows × 4 columns</p>\n",
       "</div>"
      ],
      "text/plain": [
       "      CustomerID  Recency  Frequency  Monetory\n",
       "0            2.0        4        182  553704.0\n",
       "1            3.0       77         27  257404.0\n",
       "2            4.0       20         72  176613.0\n",
       "3            5.0       18         16   41976.0\n",
       "4            6.0        9         84  151822.0\n",
       "...          ...      ...        ...       ...\n",
       "4344      4368.0       17         10   20480.0\n",
       "4345      4369.0      181          7   10774.0\n",
       "4346      4370.0       12         13   24962.0\n",
       "4347      4371.0        4        754  280608.0\n",
       "4348      4372.0       51         70  262820.0\n",
       "\n",
       "[4349 rows x 4 columns]"
      ]
     },
     "execution_count": 29,
     "metadata": {},
     "output_type": "execute_result"
    }
   ],
   "source": [
    "RFMScore.reset_index()"
   ]
  },
  {
   "cell_type": "code",
   "execution_count": 30,
   "id": "0954cc55",
   "metadata": {},
   "outputs": [
    {
     "data": {
      "text/plain": [
       "count    4349.000000\n",
       "mean       61.445160\n",
       "std        89.656941\n",
       "min         1.000000\n",
       "25%        10.000000\n",
       "50%        19.000000\n",
       "75%        73.000000\n",
       "max       617.000000\n",
       "Name: Recency, dtype: float64"
      ]
     },
     "execution_count": 30,
     "metadata": {},
     "output_type": "execute_result"
    }
   ],
   "source": [
    "RFMScore.Recency.describe()"
   ]
  },
  {
   "cell_type": "code",
   "execution_count": null,
   "id": "c9796c14",
   "metadata": {},
   "outputs": [],
   "source": [
    "# Finding of RFMScore.Recency.describe() are:\n",
    "# 1. minimum customers recency period is: 1 day \n",
    "# 2. upto 25 % of customers are having recency period of : 10 days\n",
    "# 3. from 25 to 50 % of customers are having recency period of : 19 days\n",
    "# 4. from 50 to 75 % of customers are having recency period of : 73 days\n",
    "# 4. maximum recency period is : 617 days"
   ]
  },
  {
   "cell_type": "code",
   "execution_count": 31,
   "id": "2a621748",
   "metadata": {},
   "outputs": [
    {
     "data": {
      "text/plain": [
       "count    4349.000000\n",
       "mean       92.936537\n",
       "std       232.086935\n",
       "min         1.000000\n",
       "25%        17.000000\n",
       "50%        42.000000\n",
       "75%       101.000000\n",
       "max      7970.000000\n",
       "Name: Frequency, dtype: float64"
      ]
     },
     "execution_count": 31,
     "metadata": {},
     "output_type": "execute_result"
    }
   ],
   "source": [
    "RFMScore.Frequency.describe()"
   ]
  },
  {
   "cell_type": "code",
   "execution_count": null,
   "id": "30725f31",
   "metadata": {},
   "outputs": [],
   "source": [
    "# Finding of RFMScore.Frequency.describe() are\n",
    "# minimum frequency of customer order is :1\n",
    "# 2. upto 25 % of customers are having frequency of order is : 17\n",
    "# 3. from 25 to 50 % of customers are frequency of order is: 42\n",
    "# 4. from 50 to 75 % of customers are frequency of order is : 101\n",
    "# 4. maximum frequency of order is : 7970"
   ]
  },
  {
   "cell_type": "code",
   "execution_count": 32,
   "id": "373b397c",
   "metadata": {},
   "outputs": [
    {
     "data": {
      "text/plain": [
       "count    4.349000e+03\n",
       "mean     2.299380e+05\n",
       "std      8.572589e+05\n",
       "min     -5.037200e+04\n",
       "25%      3.814800e+04\n",
       "50%      8.365500e+04\n",
       "75%      2.056120e+05\n",
       "max      3.553619e+07\n",
       "Name: Monetory, dtype: float64"
      ]
     },
     "execution_count": 32,
     "metadata": {},
     "output_type": "execute_result"
    }
   ],
   "source": [
    "RFMScore.Monetory.describe()"
   ]
  },
  {
   "cell_type": "code",
   "execution_count": null,
   "id": "0a79d0e4",
   "metadata": {},
   "outputs": [],
   "source": [
    "# Finding of RFMScore.Monetory.describe() is\n",
    "# -ve monetory value due to some order has cancelled and returned"
   ]
  },
  {
   "cell_type": "code",
   "execution_count": 33,
   "id": "bac860c7",
   "metadata": {},
   "outputs": [
    {
     "data": {
      "text/plain": [
       "{'Recency': {0.25: 10.0, 0.5: 19.0, 0.75: 73.0},\n",
       " 'Frequency': {0.25: 17.0, 0.5: 42.0, 0.75: 101.0},\n",
       " 'Monetory': {0.25: 38148.0, 0.5: 83655.0, 0.75: 205612.0}}"
      ]
     },
     "execution_count": 33,
     "metadata": {},
     "output_type": "execute_result"
    }
   ],
   "source": [
    "# Split the data for quantile method\n",
    "quantiles = RFMScore.quantile(q=[0.25,0.50,0.75])\n",
    "quantiles = quantiles.to_dict()\n",
    "quantiles\n"
   ]
  },
  {
   "cell_type": "code",
   "execution_count": null,
   "id": "fc939505",
   "metadata": {},
   "outputs": [],
   "source": [
    "# defining a function RecencyScore havinf arguments x:datapoint, p:percentage, d:Thersold"
   ]
  },
  {
   "cell_type": "code",
   "execution_count": 34,
   "id": "dc9d398c",
   "metadata": {},
   "outputs": [],
   "source": [
    "def RecencyScore(x,p,d):\n",
    "    if x <= d[p][0.25]:\n",
    "        return 1\n",
    "    elif x <= d[p][0.50]:\n",
    "        return 2\n",
    "    elif x<= d[p][0.75]:\n",
    "        return 3\n",
    "    else:\n",
    "        return 4"
   ]
  },
  {
   "cell_type": "code",
   "execution_count": 35,
   "id": "855e2582",
   "metadata": {},
   "outputs": [],
   "source": [
    "def FreqMonetryScore(x,p,d):\n",
    "    if x <= d[p][0.25]:\n",
    "        return 4\n",
    "    elif x <= d[p][0.50]:\n",
    "        return 3\n",
    "    elif x <= d[p][0.75]:\n",
    "        return 2\n",
    "    else:\n",
    "        return 1\n",
    "    "
   ]
  },
  {
   "cell_type": "code",
   "execution_count": 36,
   "id": "bfbfdc43",
   "metadata": {},
   "outputs": [
    {
     "data": {
      "text/plain": [
       "Index(['Recency', 'Frequency', 'Monetory'], dtype='object')"
      ]
     },
     "execution_count": 36,
     "metadata": {},
     "output_type": "execute_result"
    }
   ],
   "source": [
    "RFMScore.columns"
   ]
  },
  {
   "cell_type": "code",
   "execution_count": null,
   "id": "074680c8",
   "metadata": {},
   "outputs": [],
   "source": [
    "# Creating column 'R', 'F', 'M'"
   ]
  },
  {
   "cell_type": "code",
   "execution_count": 37,
   "id": "9254f50c",
   "metadata": {},
   "outputs": [],
   "source": [
    "RFMScore['R'] = RFMScore['Recency'].apply(RecencyScore, args=('Recency',quantiles))\n",
    "RFMScore['F'] = RFMScore['Frequency'].apply(FreqMonetryScore, args=('Frequency',quantiles))\n",
    "RFMScore['M'] = RFMScore['Monetory'].apply(FreqMonetryScore, args=('Monetory',quantiles))\n"
   ]
  },
  {
   "cell_type": "code",
   "execution_count": 38,
   "id": "299eeb36",
   "metadata": {},
   "outputs": [
    {
     "data": {
      "text/html": [
       "<div>\n",
       "<style scoped>\n",
       "    .dataframe tbody tr th:only-of-type {\n",
       "        vertical-align: middle;\n",
       "    }\n",
       "\n",
       "    .dataframe tbody tr th {\n",
       "        vertical-align: top;\n",
       "    }\n",
       "\n",
       "    .dataframe thead th {\n",
       "        text-align: right;\n",
       "    }\n",
       "</style>\n",
       "<table border=\"1\" class=\"dataframe\">\n",
       "  <thead>\n",
       "    <tr style=\"text-align: right;\">\n",
       "      <th></th>\n",
       "      <th>CustomerID</th>\n",
       "      <th>Recency</th>\n",
       "      <th>Frequency</th>\n",
       "      <th>Monetory</th>\n",
       "      <th>R</th>\n",
       "      <th>F</th>\n",
       "      <th>M</th>\n",
       "    </tr>\n",
       "  </thead>\n",
       "  <tbody>\n",
       "    <tr>\n",
       "      <th>0</th>\n",
       "      <td>2.0</td>\n",
       "      <td>4</td>\n",
       "      <td>182</td>\n",
       "      <td>553704.0</td>\n",
       "      <td>1</td>\n",
       "      <td>1</td>\n",
       "      <td>1</td>\n",
       "    </tr>\n",
       "    <tr>\n",
       "      <th>1</th>\n",
       "      <td>3.0</td>\n",
       "      <td>77</td>\n",
       "      <td>27</td>\n",
       "      <td>257404.0</td>\n",
       "      <td>4</td>\n",
       "      <td>3</td>\n",
       "      <td>1</td>\n",
       "    </tr>\n",
       "    <tr>\n",
       "      <th>2</th>\n",
       "      <td>4.0</td>\n",
       "      <td>20</td>\n",
       "      <td>72</td>\n",
       "      <td>176613.0</td>\n",
       "      <td>3</td>\n",
       "      <td>2</td>\n",
       "      <td>2</td>\n",
       "    </tr>\n",
       "    <tr>\n",
       "      <th>3</th>\n",
       "      <td>5.0</td>\n",
       "      <td>18</td>\n",
       "      <td>16</td>\n",
       "      <td>41976.0</td>\n",
       "      <td>2</td>\n",
       "      <td>4</td>\n",
       "      <td>3</td>\n",
       "    </tr>\n",
       "    <tr>\n",
       "      <th>4</th>\n",
       "      <td>6.0</td>\n",
       "      <td>9</td>\n",
       "      <td>84</td>\n",
       "      <td>151822.0</td>\n",
       "      <td>1</td>\n",
       "      <td>2</td>\n",
       "      <td>2</td>\n",
       "    </tr>\n",
       "    <tr>\n",
       "      <th>...</th>\n",
       "      <td>...</td>\n",
       "      <td>...</td>\n",
       "      <td>...</td>\n",
       "      <td>...</td>\n",
       "      <td>...</td>\n",
       "      <td>...</td>\n",
       "      <td>...</td>\n",
       "    </tr>\n",
       "    <tr>\n",
       "      <th>4344</th>\n",
       "      <td>4368.0</td>\n",
       "      <td>17</td>\n",
       "      <td>10</td>\n",
       "      <td>20480.0</td>\n",
       "      <td>2</td>\n",
       "      <td>4</td>\n",
       "      <td>4</td>\n",
       "    </tr>\n",
       "    <tr>\n",
       "      <th>4345</th>\n",
       "      <td>4369.0</td>\n",
       "      <td>181</td>\n",
       "      <td>7</td>\n",
       "      <td>10774.0</td>\n",
       "      <td>4</td>\n",
       "      <td>4</td>\n",
       "      <td>4</td>\n",
       "    </tr>\n",
       "    <tr>\n",
       "      <th>4346</th>\n",
       "      <td>4370.0</td>\n",
       "      <td>12</td>\n",
       "      <td>13</td>\n",
       "      <td>24962.0</td>\n",
       "      <td>2</td>\n",
       "      <td>4</td>\n",
       "      <td>4</td>\n",
       "    </tr>\n",
       "    <tr>\n",
       "      <th>4347</th>\n",
       "      <td>4371.0</td>\n",
       "      <td>4</td>\n",
       "      <td>754</td>\n",
       "      <td>280608.0</td>\n",
       "      <td>1</td>\n",
       "      <td>1</td>\n",
       "      <td>1</td>\n",
       "    </tr>\n",
       "    <tr>\n",
       "      <th>4348</th>\n",
       "      <td>4372.0</td>\n",
       "      <td>51</td>\n",
       "      <td>70</td>\n",
       "      <td>262820.0</td>\n",
       "      <td>3</td>\n",
       "      <td>2</td>\n",
       "      <td>1</td>\n",
       "    </tr>\n",
       "  </tbody>\n",
       "</table>\n",
       "<p>4349 rows × 7 columns</p>\n",
       "</div>"
      ],
      "text/plain": [
       "      CustomerID  Recency  Frequency  Monetory  R  F  M\n",
       "0            2.0        4        182  553704.0  1  1  1\n",
       "1            3.0       77         27  257404.0  4  3  1\n",
       "2            4.0       20         72  176613.0  3  2  2\n",
       "3            5.0       18         16   41976.0  2  4  3\n",
       "4            6.0        9         84  151822.0  1  2  2\n",
       "...          ...      ...        ...       ... .. .. ..\n",
       "4344      4368.0       17         10   20480.0  2  4  4\n",
       "4345      4369.0      181          7   10774.0  4  4  4\n",
       "4346      4370.0       12         13   24962.0  2  4  4\n",
       "4347      4371.0        4        754  280608.0  1  1  1\n",
       "4348      4372.0       51         70  262820.0  3  2  1\n",
       "\n",
       "[4349 rows x 7 columns]"
      ]
     },
     "execution_count": 38,
     "metadata": {},
     "output_type": "execute_result"
    }
   ],
   "source": [
    "RFMScore.reset_index()"
   ]
  },
  {
   "cell_type": "code",
   "execution_count": 39,
   "id": "0c72bd15",
   "metadata": {},
   "outputs": [
    {
     "data": {
      "text/html": [
       "<div>\n",
       "<style scoped>\n",
       "    .dataframe tbody tr th:only-of-type {\n",
       "        vertical-align: middle;\n",
       "    }\n",
       "\n",
       "    .dataframe tbody tr th {\n",
       "        vertical-align: top;\n",
       "    }\n",
       "\n",
       "    .dataframe thead th {\n",
       "        text-align: right;\n",
       "    }\n",
       "</style>\n",
       "<table border=\"1\" class=\"dataframe\">\n",
       "  <thead>\n",
       "    <tr style=\"text-align: right;\">\n",
       "      <th></th>\n",
       "      <th>CustomerID</th>\n",
       "      <th>Recency</th>\n",
       "      <th>Frequency</th>\n",
       "      <th>Monetory</th>\n",
       "      <th>R</th>\n",
       "      <th>F</th>\n",
       "      <th>M</th>\n",
       "      <th>RFMvalue</th>\n",
       "      <th>RFMGroup</th>\n",
       "    </tr>\n",
       "  </thead>\n",
       "  <tbody>\n",
       "    <tr>\n",
       "      <th>0</th>\n",
       "      <td>2.0</td>\n",
       "      <td>4</td>\n",
       "      <td>182</td>\n",
       "      <td>553704.0</td>\n",
       "      <td>1</td>\n",
       "      <td>1</td>\n",
       "      <td>1</td>\n",
       "      <td>3</td>\n",
       "      <td>111</td>\n",
       "    </tr>\n",
       "    <tr>\n",
       "      <th>1</th>\n",
       "      <td>3.0</td>\n",
       "      <td>77</td>\n",
       "      <td>27</td>\n",
       "      <td>257404.0</td>\n",
       "      <td>4</td>\n",
       "      <td>3</td>\n",
       "      <td>1</td>\n",
       "      <td>8</td>\n",
       "      <td>431</td>\n",
       "    </tr>\n",
       "    <tr>\n",
       "      <th>2</th>\n",
       "      <td>4.0</td>\n",
       "      <td>20</td>\n",
       "      <td>72</td>\n",
       "      <td>176613.0</td>\n",
       "      <td>3</td>\n",
       "      <td>2</td>\n",
       "      <td>2</td>\n",
       "      <td>7</td>\n",
       "      <td>322</td>\n",
       "    </tr>\n",
       "    <tr>\n",
       "      <th>3</th>\n",
       "      <td>5.0</td>\n",
       "      <td>18</td>\n",
       "      <td>16</td>\n",
       "      <td>41976.0</td>\n",
       "      <td>2</td>\n",
       "      <td>4</td>\n",
       "      <td>3</td>\n",
       "      <td>9</td>\n",
       "      <td>243</td>\n",
       "    </tr>\n",
       "    <tr>\n",
       "      <th>4</th>\n",
       "      <td>6.0</td>\n",
       "      <td>9</td>\n",
       "      <td>84</td>\n",
       "      <td>151822.0</td>\n",
       "      <td>1</td>\n",
       "      <td>2</td>\n",
       "      <td>2</td>\n",
       "      <td>5</td>\n",
       "      <td>122</td>\n",
       "    </tr>\n",
       "    <tr>\n",
       "      <th>...</th>\n",
       "      <td>...</td>\n",
       "      <td>...</td>\n",
       "      <td>...</td>\n",
       "      <td>...</td>\n",
       "      <td>...</td>\n",
       "      <td>...</td>\n",
       "      <td>...</td>\n",
       "      <td>...</td>\n",
       "      <td>...</td>\n",
       "    </tr>\n",
       "    <tr>\n",
       "      <th>4344</th>\n",
       "      <td>4368.0</td>\n",
       "      <td>17</td>\n",
       "      <td>10</td>\n",
       "      <td>20480.0</td>\n",
       "      <td>2</td>\n",
       "      <td>4</td>\n",
       "      <td>4</td>\n",
       "      <td>10</td>\n",
       "      <td>244</td>\n",
       "    </tr>\n",
       "    <tr>\n",
       "      <th>4345</th>\n",
       "      <td>4369.0</td>\n",
       "      <td>181</td>\n",
       "      <td>7</td>\n",
       "      <td>10774.0</td>\n",
       "      <td>4</td>\n",
       "      <td>4</td>\n",
       "      <td>4</td>\n",
       "      <td>12</td>\n",
       "      <td>444</td>\n",
       "    </tr>\n",
       "    <tr>\n",
       "      <th>4346</th>\n",
       "      <td>4370.0</td>\n",
       "      <td>12</td>\n",
       "      <td>13</td>\n",
       "      <td>24962.0</td>\n",
       "      <td>2</td>\n",
       "      <td>4</td>\n",
       "      <td>4</td>\n",
       "      <td>10</td>\n",
       "      <td>244</td>\n",
       "    </tr>\n",
       "    <tr>\n",
       "      <th>4347</th>\n",
       "      <td>4371.0</td>\n",
       "      <td>4</td>\n",
       "      <td>754</td>\n",
       "      <td>280608.0</td>\n",
       "      <td>1</td>\n",
       "      <td>1</td>\n",
       "      <td>1</td>\n",
       "      <td>3</td>\n",
       "      <td>111</td>\n",
       "    </tr>\n",
       "    <tr>\n",
       "      <th>4348</th>\n",
       "      <td>4372.0</td>\n",
       "      <td>51</td>\n",
       "      <td>70</td>\n",
       "      <td>262820.0</td>\n",
       "      <td>3</td>\n",
       "      <td>2</td>\n",
       "      <td>1</td>\n",
       "      <td>6</td>\n",
       "      <td>321</td>\n",
       "    </tr>\n",
       "  </tbody>\n",
       "</table>\n",
       "<p>4349 rows × 9 columns</p>\n",
       "</div>"
      ],
      "text/plain": [
       "      CustomerID  Recency  Frequency  Monetory  R  F  M  RFMvalue RFMGroup\n",
       "0            2.0        4        182  553704.0  1  1  1         3      111\n",
       "1            3.0       77         27  257404.0  4  3  1         8      431\n",
       "2            4.0       20         72  176613.0  3  2  2         7      322\n",
       "3            5.0       18         16   41976.0  2  4  3         9      243\n",
       "4            6.0        9         84  151822.0  1  2  2         5      122\n",
       "...          ...      ...        ...       ... .. .. ..       ...      ...\n",
       "4344      4368.0       17         10   20480.0  2  4  4        10      244\n",
       "4345      4369.0      181          7   10774.0  4  4  4        12      444\n",
       "4346      4370.0       12         13   24962.0  2  4  4        10      244\n",
       "4347      4371.0        4        754  280608.0  1  1  1         3      111\n",
       "4348      4372.0       51         70  262820.0  3  2  1         6      321\n",
       "\n",
       "[4349 rows x 9 columns]"
      ]
     },
     "execution_count": 39,
     "metadata": {},
     "output_type": "execute_result"
    }
   ],
   "source": [
    "RFMScore['RFMvalue'] = RFMScore[['R','F','M']].sum(axis=1)\n",
    "RFMScore['RFMGroup'] = RFMScore.R.map(str) + RFMScore.F.map(str) + RFMScore.M.map(str)\n",
    "RFMScore.reset_index()"
   ]
  },
  {
   "cell_type": "code",
   "execution_count": 40,
   "id": "409861f5",
   "metadata": {},
   "outputs": [
    {
     "data": {
      "text/plain": [
       "10"
      ]
     },
     "execution_count": 40,
     "metadata": {},
     "output_type": "execute_result"
    }
   ],
   "source": [
    "RFMScore['RFMvalue'].nunique()"
   ]
  },
  {
   "cell_type": "code",
   "execution_count": null,
   "id": "7c4c8149",
   "metadata": {},
   "outputs": [],
   "source": [
    "# Checking loyality_lavel for segreggating the customers"
   ]
  },
  {
   "cell_type": "code",
   "execution_count": 41,
   "id": "11e2af32",
   "metadata": {},
   "outputs": [
    {
     "data": {
      "text/html": [
       "<div>\n",
       "<style scoped>\n",
       "    .dataframe tbody tr th:only-of-type {\n",
       "        vertical-align: middle;\n",
       "    }\n",
       "\n",
       "    .dataframe tbody tr th {\n",
       "        vertical-align: top;\n",
       "    }\n",
       "\n",
       "    .dataframe thead th {\n",
       "        text-align: right;\n",
       "    }\n",
       "</style>\n",
       "<table border=\"1\" class=\"dataframe\">\n",
       "  <thead>\n",
       "    <tr style=\"text-align: right;\">\n",
       "      <th></th>\n",
       "      <th>CustomerID</th>\n",
       "      <th>Recency</th>\n",
       "      <th>Frequency</th>\n",
       "      <th>Monetory</th>\n",
       "      <th>R</th>\n",
       "      <th>F</th>\n",
       "      <th>M</th>\n",
       "      <th>RFMvalue</th>\n",
       "      <th>RFMGroup</th>\n",
       "      <th>Loyality_Lavel</th>\n",
       "    </tr>\n",
       "  </thead>\n",
       "  <tbody>\n",
       "    <tr>\n",
       "      <th>0</th>\n",
       "      <td>2.0</td>\n",
       "      <td>4</td>\n",
       "      <td>182</td>\n",
       "      <td>553704.0</td>\n",
       "      <td>1</td>\n",
       "      <td>1</td>\n",
       "      <td>1</td>\n",
       "      <td>3</td>\n",
       "      <td>111</td>\n",
       "      <td>Platinum</td>\n",
       "    </tr>\n",
       "    <tr>\n",
       "      <th>1</th>\n",
       "      <td>3.0</td>\n",
       "      <td>77</td>\n",
       "      <td>27</td>\n",
       "      <td>257404.0</td>\n",
       "      <td>4</td>\n",
       "      <td>3</td>\n",
       "      <td>1</td>\n",
       "      <td>8</td>\n",
       "      <td>431</td>\n",
       "      <td>Diamond</td>\n",
       "    </tr>\n",
       "    <tr>\n",
       "      <th>2</th>\n",
       "      <td>4.0</td>\n",
       "      <td>20</td>\n",
       "      <td>72</td>\n",
       "      <td>176613.0</td>\n",
       "      <td>3</td>\n",
       "      <td>2</td>\n",
       "      <td>2</td>\n",
       "      <td>7</td>\n",
       "      <td>322</td>\n",
       "      <td>Diamond</td>\n",
       "    </tr>\n",
       "    <tr>\n",
       "      <th>3</th>\n",
       "      <td>5.0</td>\n",
       "      <td>18</td>\n",
       "      <td>16</td>\n",
       "      <td>41976.0</td>\n",
       "      <td>2</td>\n",
       "      <td>4</td>\n",
       "      <td>3</td>\n",
       "      <td>9</td>\n",
       "      <td>243</td>\n",
       "      <td>Gold</td>\n",
       "    </tr>\n",
       "    <tr>\n",
       "      <th>4</th>\n",
       "      <td>6.0</td>\n",
       "      <td>9</td>\n",
       "      <td>84</td>\n",
       "      <td>151822.0</td>\n",
       "      <td>1</td>\n",
       "      <td>2</td>\n",
       "      <td>2</td>\n",
       "      <td>5</td>\n",
       "      <td>122</td>\n",
       "      <td>Platinum</td>\n",
       "    </tr>\n",
       "    <tr>\n",
       "      <th>...</th>\n",
       "      <td>...</td>\n",
       "      <td>...</td>\n",
       "      <td>...</td>\n",
       "      <td>...</td>\n",
       "      <td>...</td>\n",
       "      <td>...</td>\n",
       "      <td>...</td>\n",
       "      <td>...</td>\n",
       "      <td>...</td>\n",
       "      <td>...</td>\n",
       "    </tr>\n",
       "    <tr>\n",
       "      <th>4344</th>\n",
       "      <td>4368.0</td>\n",
       "      <td>17</td>\n",
       "      <td>10</td>\n",
       "      <td>20480.0</td>\n",
       "      <td>2</td>\n",
       "      <td>4</td>\n",
       "      <td>4</td>\n",
       "      <td>10</td>\n",
       "      <td>244</td>\n",
       "      <td>Gold</td>\n",
       "    </tr>\n",
       "    <tr>\n",
       "      <th>4345</th>\n",
       "      <td>4369.0</td>\n",
       "      <td>181</td>\n",
       "      <td>7</td>\n",
       "      <td>10774.0</td>\n",
       "      <td>4</td>\n",
       "      <td>4</td>\n",
       "      <td>4</td>\n",
       "      <td>12</td>\n",
       "      <td>444</td>\n",
       "      <td>Silver</td>\n",
       "    </tr>\n",
       "    <tr>\n",
       "      <th>4346</th>\n",
       "      <td>4370.0</td>\n",
       "      <td>12</td>\n",
       "      <td>13</td>\n",
       "      <td>24962.0</td>\n",
       "      <td>2</td>\n",
       "      <td>4</td>\n",
       "      <td>4</td>\n",
       "      <td>10</td>\n",
       "      <td>244</td>\n",
       "      <td>Gold</td>\n",
       "    </tr>\n",
       "    <tr>\n",
       "      <th>4347</th>\n",
       "      <td>4371.0</td>\n",
       "      <td>4</td>\n",
       "      <td>754</td>\n",
       "      <td>280608.0</td>\n",
       "      <td>1</td>\n",
       "      <td>1</td>\n",
       "      <td>1</td>\n",
       "      <td>3</td>\n",
       "      <td>111</td>\n",
       "      <td>Platinum</td>\n",
       "    </tr>\n",
       "    <tr>\n",
       "      <th>4348</th>\n",
       "      <td>4372.0</td>\n",
       "      <td>51</td>\n",
       "      <td>70</td>\n",
       "      <td>262820.0</td>\n",
       "      <td>3</td>\n",
       "      <td>2</td>\n",
       "      <td>1</td>\n",
       "      <td>6</td>\n",
       "      <td>321</td>\n",
       "      <td>Diamond</td>\n",
       "    </tr>\n",
       "  </tbody>\n",
       "</table>\n",
       "<p>4349 rows × 10 columns</p>\n",
       "</div>"
      ],
      "text/plain": [
       "      CustomerID  Recency  Frequency  Monetory  R  F  M  RFMvalue RFMGroup  \\\n",
       "0            2.0        4        182  553704.0  1  1  1         3      111   \n",
       "1            3.0       77         27  257404.0  4  3  1         8      431   \n",
       "2            4.0       20         72  176613.0  3  2  2         7      322   \n",
       "3            5.0       18         16   41976.0  2  4  3         9      243   \n",
       "4            6.0        9         84  151822.0  1  2  2         5      122   \n",
       "...          ...      ...        ...       ... .. .. ..       ...      ...   \n",
       "4344      4368.0       17         10   20480.0  2  4  4        10      244   \n",
       "4345      4369.0      181          7   10774.0  4  4  4        12      444   \n",
       "4346      4370.0       12         13   24962.0  2  4  4        10      244   \n",
       "4347      4371.0        4        754  280608.0  1  1  1         3      111   \n",
       "4348      4372.0       51         70  262820.0  3  2  1         6      321   \n",
       "\n",
       "     Loyality_Lavel  \n",
       "0          Platinum  \n",
       "1           Diamond  \n",
       "2           Diamond  \n",
       "3              Gold  \n",
       "4          Platinum  \n",
       "...             ...  \n",
       "4344           Gold  \n",
       "4345         Silver  \n",
       "4346           Gold  \n",
       "4347       Platinum  \n",
       "4348        Diamond  \n",
       "\n",
       "[4349 rows x 10 columns]"
      ]
     },
     "execution_count": 41,
     "metadata": {},
     "output_type": "execute_result"
    }
   ],
   "source": [
    "Loyality_Lavel = ['Platinum','Diamond','Gold','Silver']\n",
    "score_cuts = pd.qcut(RFMScore.RFMvalue, q=4, labels=Loyality_Lavel)\n",
    "RFMScore['Loyality_Lavel'] = score_cuts.values\n",
    "RFMScore = RFMScore.reset_index()\n",
    "RFMScore"
   ]
  },
  {
   "cell_type": "code",
   "execution_count": null,
   "id": "3c4e1777",
   "metadata": {},
   "outputs": [],
   "source": [
    "# Exporting the final data for segregatting the cusromers based on Recency, Frequency and Monetory"
   ]
  },
  {
   "cell_type": "code",
   "execution_count": 42,
   "id": "509b5370",
   "metadata": {},
   "outputs": [],
   "source": [
    "RFMScore.to_csv('final_data.csv')"
   ]
  },
  {
   "cell_type": "code",
   "execution_count": null,
   "id": "5264905c",
   "metadata": {},
   "outputs": [],
   "source": []
  }
 ],
 "metadata": {
  "kernelspec": {
   "display_name": "Python 3 (ipykernel)",
   "language": "python",
   "name": "python3"
  },
  "language_info": {
   "codemirror_mode": {
    "name": "ipython",
    "version": 3
   },
   "file_extension": ".py",
   "mimetype": "text/x-python",
   "name": "python",
   "nbconvert_exporter": "python",
   "pygments_lexer": "ipython3",
   "version": "3.11.4"
  }
 },
 "nbformat": 4,
 "nbformat_minor": 5
}
